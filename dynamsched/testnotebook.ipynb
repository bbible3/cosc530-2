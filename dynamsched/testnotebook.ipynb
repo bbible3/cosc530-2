{
 "cells": [
  {
   "cell_type": "code",
   "execution_count": 1,
   "metadata": {},
   "outputs": [],
   "source": [
    "#Change the directory to the location of the notebook\n",
    "import os\n",
    "\n",
    "\n",
    "os.chdir(r'A:\\Code\\cosc530-2\\dynamsched')"
   ]
  },
  {
   "cell_type": "code",
   "execution_count": 2,
   "metadata": {},
   "outputs": [
    {
     "name": "stdout",
     "output_type": "stream",
     "text": [
      "About to simulate\n"
     ]
    }
   ],
   "source": [
    "from config import Config\n",
    "from sim import Sim\n",
    "from log import Log, LogType\n",
    "from instructiontypes import InstructionTypes, InstructionType, DefaultInstructionTypes\n",
    "from tracer import Tracer\n",
    "\n",
    "# Are we running this file directly?\n",
    "\n",
    "log = Log()\n",
    "config = Config(log=log)\n",
    "# config.print()\n",
    "# log.print()\n",
    "\n",
    "instruction_types = DefaultInstructionTypes.default_instruction_types()\n",
    "# instruction_types.print()\n",
    "\n",
    "tracer = Tracer(\"trace.dat\", log=log, instruction_types=instruction_types)\n",
    "# log.print()\n",
    "\n",
    "tracer.process()\n",
    "# log.print()\n",
    "\n",
    "print(\"About to simulate\")\n",
    "sim = Sim(config=config, trace=tracer,\n",
    "            instruction_types=instruction_types, log=log)\n"
   ]
  },
  {
   "cell_type": "code",
   "execution_count": 3,
   "metadata": {},
   "outputs": [
    {
     "name": "stdout",
     "output_type": "stream",
     "text": [
      "Starting simulation...\n",
      "Starting simulation...\n",
      "Starting simulation...\n",
      "Starting simulation...\n",
      "Starting simulation...\n",
      "Starting simulation...\n",
      "Starting simulation...\n",
      "Starting simulation...\n",
      "Starting simulation...\n",
      "Starting simulation...\n",
      "Starting simulation...\n",
      "Starting simulation...\n",
      "Starting simulation...\n"
     ]
    }
   ],
   "source": [
    "\n",
    "sim.simulate()\n",
    "sim.simulate()\n",
    "sim.simulate()\n",
    "sim.simulate()\n",
    "sim.simulate()\n",
    "sim.simulate()\n",
    "sim.simulate()\n",
    "sim.simulate()\n",
    "sim.simulate()\n",
    "sim.simulate()\n",
    "sim.simulate()\n",
    "sim.simulate()\n",
    "sim.simulate()\n",
    "\n"
   ]
  },
  {
   "cell_type": "code",
   "execution_count": 4,
   "metadata": {},
   "outputs": [
    {
     "name": "stdout",
     "output_type": "stream",
     "text": [
      "Sim ran for 14 cycles\n"
     ]
    }
   ],
   "source": [
    "print(f\"Sim ran for {sim.cycle} cycles\")"
   ]
  },
  {
   "cell_type": "code",
   "execution_count": 5,
   "metadata": {},
   "outputs": [
    {
     "name": "stdout",
     "output_type": "stream",
     "text": [
      "[SIM_ISSUE_INSTRUCTION] Cycle 3: Issuing cycle at IQI 2 ~~~ [FLOATING_POINT] fmul.s ['f0', 'f2', 'f4'] (instr_id=2)\n",
      "[SIM_ISSUE_INSTRUCTION] Hazard: Memloc f2 is not available (instr_id=2)\n",
      "[SIM_RETRY_EXECUTE_INSTRUCTION] Retrying execution of instruction at cycle 4 ~~~ [FLOATING_POINT] fmul.s ['f0', 'f2', 'f4'] (instr_id=2)\n",
      "[SIM_RETRY_EXECUTE_INSTRUCTION_NO_MEM] memloc.using is True for f2:True 4 ~~~ [FLOATING_POINT] fmul.s ['f0', 'f2', 'f4'] (instr_id=2)\n",
      "[SIM_RETRY_EXECUTE_INSTRUCTION_NO_MEM] Instruction cannot be executed at cycle 4 ~~~ [FLOATING_POINT] fmul.s ['f0', 'f2', 'f4'] (instr_id=2)\n",
      "[SIM_RETRY_EXECUTE_INSTRUCTION_NO_MEM] \t[None, None, None] ~~~ [FLOATING_POINT] fmul.s ['f0', 'f2', 'f4'] (instr_id=2)\n",
      "[SIM_RETRY_EXECUTE_INSTRUCTION] Retrying execution of instruction at cycle 6 ~~~ [FLOATING_POINT] fmul.s ['f0', 'f2', 'f4'] (instr_id=2)\n",
      "[SIM_RETRY_EXECUTE_INSTRUCTION_MEM] Instruction can be executed at cycle 6 ~~~ [FLOATING_POINT] fmul.s ['f0', 'f2', 'f4'] (instr_id=2)\n",
      "[SIM_RETRY_EXECUTE_INSTRUCTION_MEM] Instruction added to eff buffer at 6, should finish at 10 ~~~ [FLOATING_POINT] fmul.s ['f0', 'f2', 'f4'] (instr_id=2)\n",
      "[FLW_FINISH_EXECUTE] Instruction in eff addr buffer finished executing at cycle 10 ~~~ [FLOATING_POINT] fmul.s ['f0', 'f2', 'f4'] (instr_id=2)\n",
      "[FLW_MOVE_TO_MEMBUF] Instruction in eff addr buffer moved to mem buffer at cycle 10 ~~~ [FLOATING_POINT] fmul.s ['f0', 'f2', 'f4'] (instr_id=2)\n",
      "[SIM_DOES_NOT_USE_MEM] Instruction fmul.s does not use mem cycle, but is in the mem read buffer. Removing from buffer. (instr_id=2)\n",
      "[SIM_MOVE_TO_WRITERESULTBUF] Instruction in mem buffer moved to write result buffer at cycle 10 ~~~ [FLOATING_POINT] fmul.s ['f0', 'f2', 'f4'] (instr_id=2)\n",
      "[SIM_WRITE_RESULT] Instruction in write result buffer finished writing at cycle 11 ~~~ [FLOATING_POINT] fmul.s ['f0', 'f2', 'f4'] (instr_id=2)\n",
      "[SIM_FREE_MEMLOC] Freeing memloc f0 at cycle 11 (instr_id=2)\n",
      "[SIM_FREE_MEMLOC] Freed memloc f0 (now False) at cycle 11 (instr_id=2)\n",
      "[SIM_FREE_MEMLOC] Freeing memloc f2 at cycle 11 (instr_id=2)\n",
      "[SIM_FREE_MEMLOC] Freed memloc f2 (now False) at cycle 11 (instr_id=2)\n",
      "[SIM_FREE_MEMLOC] Freeing memloc f4 at cycle 11 (instr_id=2)\n",
      "[SIM_FREE_MEMLOC] Freed memloc f4 (now False) at cycle 11 (instr_id=2)\n",
      "[SIM_COMMIT_SUCCESS] Instruction fmul.s committed on cycle 12 (instr_id=2)\n"
     ]
    }
   ],
   "source": [
    "log.print_id(2)"
   ]
  },
  {
   "cell_type": "code",
   "execution_count": 6,
   "metadata": {},
   "outputs": [
    {
     "name": "stdout",
     "output_type": "stream",
     "text": [
      "                    Pipeline Simulation                    \n",
      "-----------------------------------------------------------\n",
      "                                      Memory Writes\n",
      "     Instruction      Issues Executes  Read  Result Commits \n",
      "--------------------- ------ -------- ------ ------ ------- \n",
      "flw    f6,32(x2):0         1  2 -  2      3      4       5\n",
      "flw    f2,48(x3):4         2  3 -  3      4      5       6\n",
      "fmul.s f0,f2,f4            3  6 - 10            11      12\n",
      "fsub.s f8,f6,f2            4  7 -  8             9      10\n",
      "fdiv.s f10,f0,f6           5  ? -  ?             ?       ?\n",
      "fadd.s f6,f8,f2            6  ? -  ?             ?       ?\n",
      "\n"
     ]
    }
   ],
   "source": [
    "log.print_table()"
   ]
  },
  {
   "cell_type": "code",
   "execution_count": 7,
   "metadata": {},
   "outputs": [
    {
     "name": "stdout",
     "output_type": "stream",
     "text": [
      "[CONFIG_READ] Config file read successfully (instr_id=None)\n",
      "[TRACE_OPEN] Opened trace file trace.dat (instr_id=None)\n",
      "[TRACE_OPEN] Read 6 lines (instr_id=None)\n",
      "[TRACE_COMMAND_MATCH] Matched command flw to flw (instr_id=None)\n",
      "[TRACE_COMMAND_PARAM_EXTRACT] Extracted parameters. Command flw has 2 parameters (instr_id=None)\n",
      "[TRACE_COMMAND_QUEUE_ADD] Added instruction flw to queue (instr_id=None)\n",
      "[TRACE_COMMAND_MATCH] Matched command flw to flw (instr_id=None)\n",
      "[TRACE_COMMAND_PARAM_EXTRACT] Extracted parameters. Command flw has 2 parameters (instr_id=None)\n",
      "[TRACE_COMMAND_QUEUE_ADD] Added instruction flw to queue (instr_id=None)\n",
      "[TRACE_COMMAND_MATCH] Matched command fmul.s to fmul.s (instr_id=None)\n",
      "[TRACE_COMMAND_PARAM_EXTRACT] Extracted parameters. Command fmul.s has 3 parameters (instr_id=None)\n",
      "[TRACE_COMMAND_QUEUE_ADD] Added instruction fmul.s to queue (instr_id=None)\n",
      "[TRACE_COMMAND_MATCH] Matched command fsub.s to fsub.s (instr_id=None)\n",
      "[TRACE_COMMAND_PARAM_EXTRACT] Extracted parameters. Command fsub.s has 3 parameters (instr_id=None)\n",
      "[TRACE_COMMAND_QUEUE_ADD] Added instruction fsub.s to queue (instr_id=None)\n",
      "[TRACE_COMMAND_MATCH] Matched command fdiv.s to fdiv.s (instr_id=None)\n",
      "[TRACE_COMMAND_PARAM_EXTRACT] Extracted parameters. Command fdiv.s has 3 parameters (instr_id=None)\n",
      "[TRACE_COMMAND_QUEUE_ADD] Added instruction fdiv.s to queue (instr_id=None)\n",
      "[TRACE_COMMAND_MATCH] Matched command fadd.s to fadd.s (instr_id=None)\n",
      "[TRACE_COMMAND_PARAM_EXTRACT] Extracted parameters. Command fadd.s has 3 parameters (instr_id=None)\n",
      "[TRACE_COMMAND_QUEUE_ADD] Added instruction fadd.s to queue (instr_id=None)\n",
      "[SIM_ENTER_CYCLE] Starting cycle 1 (instr_id=None)\n",
      "[SIM_ENTER_CYCLE] Currently waiting on 0 memory instructions [] (instr_id=None)\n",
      "[SIM_ISSUE_INSTRUCTION] Cycle 1: Issuing cycle at IQI 0 ~~~ [DATA_TRANSFERS] flw ['f6', '32(x2):0'] (instr_id=0)\n",
      "[SIM_READY_TO_EXECUTE] Memloc is available, so we can execute on the next cycle (instr_id=0)\n",
      "[SIM_APPEND_EFF_ADDR_BUFFER] Attempting to add to effective address buffer (instr_id=None)\n",
      "[SIM_APPEND_EFF_ADDR_BUFFER] Added to effective address buffer (instr_id=None)\n",
      "[SIM_ENTER_CYCLE] Starting cycle 2 (instr_id=None)\n",
      "[SIM_ENTER_CYCLE] Currently waiting on 0 memory instructions [] (instr_id=None)\n",
      "[FLW_START_EXECUTE] Instruction in eff addr buffer started executing at cycle 2, should finish at 2 ~~~ [DATA_TRANSFERS] flw ['f6', '32(x2):0'] (instr_id=0)\n",
      "[SIM_ISSUE_INSTRUCTION] Cycle 2: Issuing cycle at IQI 1 ~~~ [DATA_TRANSFERS] flw ['f2', '48(x3):4'] (instr_id=1)\n",
      "[SIM_READY_TO_EXECUTE] Memloc is available, so we can execute on the next cycle (instr_id=1)\n",
      "[SIM_APPEND_EFF_ADDR_BUFFER] Attempting to add to effective address buffer (instr_id=None)\n",
      "[SIM_APPEND_EFF_ADDR_BUFFER] Added to effective address buffer (instr_id=None)\n",
      "[FLW_FINISH_EXECUTE] Instruction in eff addr buffer finished executing at cycle 2 ~~~ [DATA_TRANSFERS] flw ['f6', '32(x2):0'] (instr_id=0)\n",
      "[FLW_MOVE_TO_MEMBUF] Instruction in eff addr buffer moved to mem buffer at cycle 2 ~~~ [DATA_TRANSFERS] flw ['f6', '32(x2):0'] (instr_id=0)\n",
      "[SIM_MEM_READ_MISMATCH] Instruction in mem buffer did not start reading at 2, expected 3 ~~~ [DATA_TRANSFERS] flw ['f6', '32(x2):0'] (instr_id=0)\n",
      "[SIM_ENTER_CYCLE] Starting cycle 3 (instr_id=None)\n",
      "[SIM_ENTER_CYCLE] Currently waiting on 0 memory instructions [] (instr_id=None)\n",
      "[FLW_START_EXECUTE] Instruction in eff addr buffer started executing at cycle 3, should finish at 3 ~~~ [DATA_TRANSFERS] flw ['f2', '48(x3):4'] (instr_id=1)\n",
      "[SIM_ISSUE_INSTRUCTION] Cycle 3: Issuing cycle at IQI 2 ~~~ [FLOATING_POINT] fmul.s ['f0', 'f2', 'f4'] (instr_id=2)\n",
      "[SIM_ISSUE_INSTRUCTION] Hazard: Memloc f2 is not available (instr_id=2)\n",
      "[FLW_FINISH_EXECUTE] Instruction in eff addr buffer finished executing at cycle 3 ~~~ [DATA_TRANSFERS] flw ['f2', '48(x3):4'] (instr_id=1)\n",
      "[FLW_MOVE_TO_MEMBUF] Instruction in eff addr buffer moved to mem buffer at cycle 3 ~~~ [DATA_TRANSFERS] flw ['f2', '48(x3):4'] (instr_id=1)\n",
      "[SIM_MEM_READ] Instruction in mem buffer started reading at cycle 3, should finish at 3 ~~~ [DATA_TRANSFERS] flw ['f6', '32(x2):0'] (instr_id=0)\n",
      "[SIM_MOVE_TO_WRITERESULTBUF] Instruction in mem buffer moved to write result buffer at cycle 3 ~~~ [DATA_TRANSFERS] flw ['f6', '32(x2):0'] (instr_id=0)\n",
      "[SIM_ENTER_CYCLE] Starting cycle 4 (instr_id=None)\n",
      "[SIM_ENTER_CYCLE] Currently waiting on 1 memory instructions [\"[FLOATING_POINT] fmul.s ['f0', 'f2', 'f4']\"] (instr_id=None)\n",
      "[SIM_ISSUE_INSTRUCTION] Cycle 4: Issuing cycle at IQI 3 ~~~ [FLOATING_POINT] fsub.s ['f8', 'f6', 'f2'] (instr_id=3)\n",
      "[SIM_ISSUE_INSTRUCTION] Hazard: Memloc f6 is not available (instr_id=3)\n",
      "[SIM_RETRY_EXECUTE_INSTRUCTION] Retrying execution of instruction at cycle 4 ~~~ [FLOATING_POINT] fmul.s ['f0', 'f2', 'f4'] (instr_id=2)\n",
      "[SIM_RETRY_EXECUTE_INSTRUCTION_NO_MEM] memloc.using is True for f2:True 4 ~~~ [FLOATING_POINT] fmul.s ['f0', 'f2', 'f4'] (instr_id=2)\n",
      "[SIM_RETRY_EXECUTE_INSTRUCTION_NO_MEM] Instruction cannot be executed at cycle 4 ~~~ [FLOATING_POINT] fmul.s ['f0', 'f2', 'f4'] (instr_id=2)\n",
      "[SIM_RETRY_EXECUTE_INSTRUCTION_NO_MEM] \t[None, None, None] ~~~ [FLOATING_POINT] fmul.s ['f0', 'f2', 'f4'] (instr_id=2)\n",
      "[SIM_MEM_READ] Instruction in mem buffer started reading at cycle 4, should finish at 4 ~~~ [DATA_TRANSFERS] flw ['f2', '48(x3):4'] (instr_id=1)\n",
      "[SIM_MOVE_TO_WRITERESULTBUF] Instruction in mem buffer moved to write result buffer at cycle 4 ~~~ [DATA_TRANSFERS] flw ['f2', '48(x3):4'] (instr_id=1)\n",
      "[SIM_WRITE_RESULT] Instruction in write result buffer finished writing at cycle 4 ~~~ [DATA_TRANSFERS] flw ['f6', '32(x2):0'] (instr_id=0)\n",
      "[SIM_FREE_MEMLOC] Freeing memloc f6 at cycle 4 (instr_id=0)\n",
      "[SIM_FREE_MEMLOC] Freed memloc f6 (now False) at cycle 4 (instr_id=0)\n",
      "[SIM_FREE_MEMLOC] Freeing memloc 32(x2):0 at cycle 4 (instr_id=0)\n",
      "[SIM_FREE_MEMLOC] Freed memloc 32(x2):0 (now False) at cycle 4 (instr_id=0)\n",
      "[SIM_ENTER_CYCLE] Starting cycle 5 (instr_id=None)\n",
      "[SIM_ENTER_CYCLE] Currently waiting on 2 memory instructions [\"[FLOATING_POINT] fsub.s ['f8', 'f6', 'f2']\", \"[FLOATING_POINT] fmul.s ['f0', 'f2', 'f4']\"] (instr_id=None)\n",
      "[SIM_ISSUE_INSTRUCTION] Cycle 5: Issuing cycle at IQI 4 ~~~ [FLOATING_POINT] fdiv.s ['f10', 'f0', 'f6'] (instr_id=4)\n",
      "[SIM_READY_TO_EXECUTE] Memloc is available, so we can execute on the next cycle (instr_id=4)\n",
      "[SIM_RETRY_EXECUTE_INSTRUCTION] Retrying execution of instruction at cycle 5 ~~~ [FLOATING_POINT] fsub.s ['f8', 'f6', 'f2'] (instr_id=3)\n",
      "[SIM_RETRY_EXECUTE_INSTRUCTION_NO_MEM] memloc.using is True for f2:True 5 ~~~ [FLOATING_POINT] fsub.s ['f8', 'f6', 'f2'] (instr_id=3)\n",
      "[SIM_RETRY_EXECUTE_INSTRUCTION_NO_MEM] Instruction cannot be executed at cycle 5 ~~~ [FLOATING_POINT] fsub.s ['f8', 'f6', 'f2'] (instr_id=3)\n",
      "[SIM_RETRY_EXECUTE_INSTRUCTION_NO_MEM] \t[None, None, None] ~~~ [FLOATING_POINT] fsub.s ['f8', 'f6', 'f2'] (instr_id=3)\n",
      "[SIM_WRITE_RESULT] Instruction in write result buffer finished writing at cycle 5 ~~~ [DATA_TRANSFERS] flw ['f2', '48(x3):4'] (instr_id=1)\n",
      "[SIM_FREE_MEMLOC] Freeing memloc f2 at cycle 5 (instr_id=1)\n",
      "[SIM_FREE_MEMLOC] Freed memloc f2 (now False) at cycle 5 (instr_id=1)\n",
      "[SIM_FREE_MEMLOC] Freeing memloc 48(x3):4 at cycle 5 (instr_id=1)\n",
      "[SIM_FREE_MEMLOC] Freed memloc 48(x3):4 (now False) at cycle 5 (instr_id=1)\n",
      "[SIM_COMMIT_SUCCESS] Instruction flw committed on cycle 5 (instr_id=0)\n",
      "[SIM_ENTER_CYCLE] Starting cycle 6 (instr_id=None)\n",
      "[SIM_ENTER_CYCLE] Currently waiting on 2 memory instructions [\"[FLOATING_POINT] fmul.s ['f0', 'f2', 'f4']\", \"[FLOATING_POINT] fsub.s ['f8', 'f6', 'f2']\"] (instr_id=None)\n",
      "[SIM_ISSUE_INSTRUCTION] Cycle 6: Issuing cycle at IQI 5 ~~~ [FLOATING_POINT] fadd.s ['f6', 'f8', 'f2'] (instr_id=5)\n",
      "[SIM_READY_TO_EXECUTE] Memloc is available, so we can execute on the next cycle (instr_id=5)\n",
      "[SIM_RETRY_EXECUTE_INSTRUCTION] Retrying execution of instruction at cycle 6 ~~~ [FLOATING_POINT] fmul.s ['f0', 'f2', 'f4'] (instr_id=2)\n",
      "[SIM_RETRY_EXECUTE_INSTRUCTION_MEM] Instruction can be executed at cycle 6 ~~~ [FLOATING_POINT] fmul.s ['f0', 'f2', 'f4'] (instr_id=2)\n",
      "[SIM_RETRY_EXECUTE_INSTRUCTION_MEM] Instruction added to eff buffer at 6, should finish at 10 ~~~ [FLOATING_POINT] fmul.s ['f0', 'f2', 'f4'] (instr_id=2)\n",
      "[SIM_COMMIT_SUCCESS] Instruction flw committed on cycle 6 (instr_id=1)\n",
      "[SIM_ENTER_CYCLE] Starting cycle 7 (instr_id=None)\n",
      "[SIM_ENTER_CYCLE] Currently waiting on 1 memory instructions [\"[FLOATING_POINT] fsub.s ['f8', 'f6', 'f2']\"] (instr_id=None)\n",
      "[SIM_RETRY_EXECUTE_INSTRUCTION] Retrying execution of instruction at cycle 7 ~~~ [FLOATING_POINT] fsub.s ['f8', 'f6', 'f2'] (instr_id=3)\n",
      "[SIM_RETRY_EXECUTE_INSTRUCTION_MEM] Instruction can be executed at cycle 7 ~~~ [FLOATING_POINT] fsub.s ['f8', 'f6', 'f2'] (instr_id=3)\n",
      "[SIM_RETRY_EXECUTE_INSTRUCTION_MEM] Instruction added to eff buffer at 7, should finish at 8 ~~~ [FLOATING_POINT] fsub.s ['f8', 'f6', 'f2'] (instr_id=3)\n",
      "[SIM_ENTER_CYCLE] Starting cycle 8 (instr_id=None)\n",
      "[SIM_ENTER_CYCLE] Currently waiting on 0 memory instructions [] (instr_id=None)\n",
      "[FLW_FINISH_EXECUTE] Instruction in eff addr buffer finished executing at cycle 8 ~~~ [FLOATING_POINT] fsub.s ['f8', 'f6', 'f2'] (instr_id=3)\n",
      "[FLW_MOVE_TO_MEMBUF] Instruction in eff addr buffer moved to mem buffer at cycle 8 ~~~ [FLOATING_POINT] fsub.s ['f8', 'f6', 'f2'] (instr_id=3)\n",
      "[SIM_DOES_NOT_USE_MEM] Instruction fsub.s does not use mem cycle, but is in the mem read buffer. Removing from buffer. (instr_id=3)\n",
      "[SIM_MOVE_TO_WRITERESULTBUF] Instruction in mem buffer moved to write result buffer at cycle 8 ~~~ [FLOATING_POINT] fsub.s ['f8', 'f6', 'f2'] (instr_id=3)\n",
      "[SIM_ENTER_CYCLE] Starting cycle 9 (instr_id=None)\n",
      "[SIM_ENTER_CYCLE] Currently waiting on 0 memory instructions [] (instr_id=None)\n",
      "[SIM_WRITE_RESULT] Instruction in write result buffer finished writing at cycle 9 ~~~ [FLOATING_POINT] fsub.s ['f8', 'f6', 'f2'] (instr_id=3)\n",
      "[SIM_FREE_MEMLOC] Freeing memloc f8 at cycle 9 (instr_id=3)\n",
      "[SIM_FREE_MEMLOC] Freed memloc f8 (now False) at cycle 9 (instr_id=3)\n",
      "[SIM_FREE_MEMLOC] Freeing memloc f6 at cycle 9 (instr_id=3)\n",
      "[SIM_FREE_MEMLOC] Freed memloc f6 (now False) at cycle 9 (instr_id=3)\n",
      "[SIM_FREE_MEMLOC] Freeing memloc f2 at cycle 9 (instr_id=3)\n",
      "[SIM_FREE_MEMLOC] Freed memloc f2 (now False) at cycle 9 (instr_id=3)\n",
      "[SIM_ENTER_CYCLE] Starting cycle 10 (instr_id=None)\n",
      "[SIM_ENTER_CYCLE] Currently waiting on 0 memory instructions [] (instr_id=None)\n",
      "[FLW_FINISH_EXECUTE] Instruction in eff addr buffer finished executing at cycle 10 ~~~ [FLOATING_POINT] fmul.s ['f0', 'f2', 'f4'] (instr_id=2)\n",
      "[FLW_MOVE_TO_MEMBUF] Instruction in eff addr buffer moved to mem buffer at cycle 10 ~~~ [FLOATING_POINT] fmul.s ['f0', 'f2', 'f4'] (instr_id=2)\n",
      "[SIM_DOES_NOT_USE_MEM] Instruction fmul.s does not use mem cycle, but is in the mem read buffer. Removing from buffer. (instr_id=2)\n",
      "[SIM_MOVE_TO_WRITERESULTBUF] Instruction in mem buffer moved to write result buffer at cycle 10 ~~~ [FLOATING_POINT] fmul.s ['f0', 'f2', 'f4'] (instr_id=2)\n",
      "[SIM_COMMIT_SUCCESS] Instruction fsub.s committed on cycle 10 (instr_id=3)\n",
      "[SIM_ENTER_CYCLE] Starting cycle 11 (instr_id=None)\n",
      "[SIM_ENTER_CYCLE] Currently waiting on 0 memory instructions [] (instr_id=None)\n",
      "[SIM_WRITE_RESULT] Instruction in write result buffer finished writing at cycle 11 ~~~ [FLOATING_POINT] fmul.s ['f0', 'f2', 'f4'] (instr_id=2)\n",
      "[SIM_FREE_MEMLOC] Freeing memloc f0 at cycle 11 (instr_id=2)\n",
      "[SIM_FREE_MEMLOC] Freed memloc f0 (now False) at cycle 11 (instr_id=2)\n",
      "[SIM_FREE_MEMLOC] Freeing memloc f2 at cycle 11 (instr_id=2)\n",
      "[SIM_FREE_MEMLOC] Freed memloc f2 (now False) at cycle 11 (instr_id=2)\n",
      "[SIM_FREE_MEMLOC] Freeing memloc f4 at cycle 11 (instr_id=2)\n",
      "[SIM_FREE_MEMLOC] Freed memloc f4 (now False) at cycle 11 (instr_id=2)\n",
      "[SIM_ENTER_CYCLE] Starting cycle 12 (instr_id=None)\n",
      "[SIM_ENTER_CYCLE] Currently waiting on 0 memory instructions [] (instr_id=None)\n",
      "[SIM_COMMIT_SUCCESS] Instruction fmul.s committed on cycle 12 (instr_id=2)\n",
      "[SIM_ENTER_CYCLE] Starting cycle 13 (instr_id=None)\n",
      "[SIM_ENTER_CYCLE] Currently waiting on 0 memory instructions [] (instr_id=None)\n"
     ]
    }
   ],
   "source": [
    "log.print()"
   ]
  },
  {
   "cell_type": "code",
   "execution_count": 8,
   "metadata": {},
   "outputs": [
    {
     "name": "stdout",
     "output_type": "stream",
     "text": [
      "[SIM_COMMIT_SUCCESS] Instruction flw committed on cycle 5 (instr_id=0)\n",
      "[SIM_COMMIT_SUCCESS] Instruction flw committed on cycle 6 (instr_id=1)\n",
      "[SIM_COMMIT_SUCCESS] Instruction fsub.s committed on cycle 10 (instr_id=3)\n",
      "[SIM_COMMIT_SUCCESS] Instruction fmul.s committed on cycle 12 (instr_id=2)\n"
     ]
    }
   ],
   "source": [
    "log.print_type(LogType.SIM_OUTOFORDER_COMMIT_STALL, LogType.SIM_COMMIT_SUCCESS, LogType.SIM_COMMIT_TOO_EARLY)"
   ]
  }
 ],
 "metadata": {
  "kernelspec": {
   "display_name": "Python 3.9.1 ('.venv': venv)",
   "language": "python",
   "name": "python3"
  },
  "language_info": {
   "codemirror_mode": {
    "name": "ipython",
    "version": 3
   },
   "file_extension": ".py",
   "mimetype": "text/x-python",
   "name": "python",
   "nbconvert_exporter": "python",
   "pygments_lexer": "ipython3",
   "version": "3.9.1"
  },
  "orig_nbformat": 4,
  "vscode": {
   "interpreter": {
    "hash": "66bf4492139598d49a7c8310fb15441437b574c1b34774718e055f9cbee0965b"
   }
  }
 },
 "nbformat": 4,
 "nbformat_minor": 2
}
