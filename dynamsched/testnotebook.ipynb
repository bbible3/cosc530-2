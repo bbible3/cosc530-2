{
 "cells": [
  {
   "cell_type": "code",
   "execution_count": 9,
   "metadata": {},
   "outputs": [],
   "source": [
    "#Change the directory to the location of the notebook\n",
    "import os\n",
    "\n",
    "\n",
    "os.chdir(r'A:\\Code\\cosc530-2\\dynamsched')"
   ]
  },
  {
   "cell_type": "code",
   "execution_count": 10,
   "metadata": {},
   "outputs": [
    {
     "name": "stdout",
     "output_type": "stream",
     "text": [
      "About to simulate\n"
     ]
    }
   ],
   "source": [
    "from config import Config\n",
    "from sim import Sim\n",
    "from log import Log, LogType\n",
    "from instructiontypes import InstructionTypes, InstructionType, DefaultInstructionTypes\n",
    "from tracer import Tracer\n",
    "\n",
    "# Are we running this file directly?\n",
    "\n",
    "log = Log()\n",
    "config = Config(log=log)\n",
    "# config.print()\n",
    "# log.print()\n",
    "\n",
    "instruction_types = DefaultInstructionTypes.default_instruction_types(config=config)\n",
    "# instruction_types.print()\n",
    "\n",
    "tracer = Tracer(\"trace.dat\", log=log, instruction_types=instruction_types)\n",
    "# log.print()\n",
    "\n",
    "tracer.process()\n",
    "# log.print()\n",
    "\n",
    "print(\"About to simulate\")\n",
    "sim = Sim(config=config, trace=tracer,\n",
    "            instruction_types=instruction_types, log=log)\n"
   ]
  },
  {
   "cell_type": "code",
   "execution_count": 11,
   "metadata": {},
   "outputs": [
    {
     "name": "stdout",
     "output_type": "stream",
     "text": [
      "Starting simulation...\n",
      "Starting simulation...\n",
      "Starting simulation...\n",
      "Starting simulation...\n",
      "Starting simulation...\n",
      "Starting simulation...\n",
      "Starting simulation...\n",
      "Starting simulation...\n",
      "Starting simulation...\n",
      "Starting simulation...\n",
      "Starting simulation...\n",
      "Starting simulation...\n",
      "Starting simulation...\n"
     ]
    }
   ],
   "source": [
    "\n",
    "sim.simulate()\n",
    "sim.simulate()\n",
    "sim.simulate()\n",
    "sim.simulate()\n",
    "sim.simulate()\n",
    "sim.simulate()\n",
    "sim.simulate()\n",
    "sim.simulate()\n",
    "sim.simulate()\n",
    "sim.simulate()\n",
    "sim.simulate()\n",
    "sim.simulate()\n",
    "sim.simulate()\n",
    "\n"
   ]
  },
  {
   "cell_type": "code",
   "execution_count": 12,
   "metadata": {},
   "outputs": [
    {
     "name": "stdout",
     "output_type": "stream",
     "text": [
      "Sim ran for 14 cycles\n"
     ]
    }
   ],
   "source": [
    "print(f\"Sim ran for {sim.cycle} cycles\")"
   ]
  },
  {
   "cell_type": "code",
   "execution_count": 13,
   "metadata": {},
   "outputs": [
    {
     "name": "stdout",
     "output_type": "stream",
     "text": [
      "[SIM_ISSUE_INSTRUCTION] (Cycle 3) Issued instruction [FLOATING_POINT] fmul.s ['f0', 'f2', 'f4'] (instr_id=2)\n",
      "[SIM_CHECK_EXECUTE] (Cycle 4) Checking instruction [FLOATING_POINT] fmul.s ['f0', 'f2', 'f4'] for execution (instr_id=2)\n",
      "[SIM_CHECK_EXECUTE] \tMemloc f2 is used by 1 other instructions. Cannot execute yet. (instr_id=2)\n",
      "[SIM_CHECK_EXECUTE] (Cycle 5) Checking instruction [FLOATING_POINT] fmul.s ['f0', 'f2', 'f4'] for execution (instr_id=2)\n",
      "[SIM_CHECK_EXECUTE] \tMemloc f2 is used by 1 other instructions. Cannot execute yet. (instr_id=2)\n",
      "[SIM_CHECK_EXECUTE] (Cycle 6) Checking instruction [FLOATING_POINT] fmul.s ['f0', 'f2', 'f4'] for execution (instr_id=2)\n",
      "[SIM_START_EXECUTE] (Cycle 6) Starting Executing instruction [FLOATING_POINT] fmul.s ['f0', 'f2', 'f4'], should finish at 10 (instr_id=2)\n",
      "[SIM_CHECK_EXECUTE] (Cycle 7) Checking instruction [FLOATING_POINT] fmul.s ['f0', 'f2', 'f4'] for execution (instr_id=2)\n",
      "[SIM_START_EXECUTE] (Cycle 7) Starting Executing instruction [FLOATING_POINT] fmul.s ['f0', 'f2', 'f4'], should finish at 10 (instr_id=2)\n",
      "[SIM_CONTINUE_EXECUTE] (Cycle 7) Executing instruction [FLOATING_POINT] fmul.s ['f0', 'f2', 'f4'] (instr_id=2)\n",
      "[SIM_CHECK_EXECUTE] (Cycle 8) Checking instruction [FLOATING_POINT] fmul.s ['f0', 'f2', 'f4'] for execution (instr_id=2)\n",
      "[SIM_START_EXECUTE] (Cycle 8) Starting Executing instruction [FLOATING_POINT] fmul.s ['f0', 'f2', 'f4'], should finish at 10 (instr_id=2)\n",
      "[SIM_CONTINUE_EXECUTE] (Cycle 8) Executing instruction [FLOATING_POINT] fmul.s ['f0', 'f2', 'f4'] (instr_id=2)\n",
      "[SIM_CHECK_EXECUTE] (Cycle 9) Checking instruction [FLOATING_POINT] fmul.s ['f0', 'f2', 'f4'] for execution (instr_id=2)\n",
      "[SIM_START_EXECUTE] (Cycle 9) Starting Executing instruction [FLOATING_POINT] fmul.s ['f0', 'f2', 'f4'], should finish at 10 (instr_id=2)\n",
      "[SIM_CONTINUE_EXECUTE] (Cycle 9) Executing instruction [FLOATING_POINT] fmul.s ['f0', 'f2', 'f4'] (instr_id=2)\n",
      "[SIM_CHECK_EXECUTE] (Cycle 10) Checking instruction [FLOATING_POINT] fmul.s ['f0', 'f2', 'f4'] for execution (instr_id=2)\n",
      "[SIM_START_EXECUTE] (Cycle 10) Starting Executing instruction [FLOATING_POINT] fmul.s ['f0', 'f2', 'f4'], should finish at 10 (instr_id=2)\n",
      "[SIM_FINISH_EXECUTE] (Cycle 10) Finished Executing instruction [FLOATING_POINT] fmul.s ['f0', 'f2', 'f4'] (instr_id=2)\n",
      "[SIM_WRITE_RESULT] (Cycle 11) Writing result for instruction [FLOATING_POINT] fmul.s ['f0', 'f2', 'f4'] (instr_id=2)\n",
      "[SIM_FREE_MEMLOC] \tFreeing memloc f0 (instr_id=2)\n",
      "[SIM_FREE_MEMLOC] \tFreeing memloc f2 (instr_id=2)\n",
      "[SIM_FREE_MEMLOC] \tFreeing memloc f4 (instr_id=2)\n"
     ]
    }
   ],
   "source": [
    "log.print_id(2)"
   ]
  },
  {
   "cell_type": "code",
   "execution_count": 14,
   "metadata": {},
   "outputs": [
    {
     "name": "stdout",
     "output_type": "stream",
     "text": [
      "Config file: config.txt\n",
      "buffers\n",
      "eff_addr 2\n",
      "fp_adds 3\n",
      "fp_muls 3\n",
      "ints 2\n",
      "reorder 5\n",
      "latencies\n",
      "fp_add 2\n",
      "fp_sub 2\n",
      "fp_mul 5\n",
      "fp_div 10\n"
     ]
    }
   ],
   "source": [
    "config.print()"
   ]
  },
  {
   "cell_type": "code",
   "execution_count": 6,
   "metadata": {},
   "outputs": [
    {
     "name": "stdout",
     "output_type": "stream",
     "text": [
      "                    Pipeline Simulation                    \n",
      "-----------------------------------------------------------\n",
      "                                      Memory Writes\n",
      "     Instruction      Issues Executes  Read  Result Commits \n",
      "--------------------- ------ -------- ------ ------ ------- \n",
      "flw    f6,32(x2):0         1  2 -  2      3      4       5\n",
      "flw    f2,48(x3):4         2  3 -  3      4      5       6\n",
      "fmul.s f0,f2,f4            3  6 - 10            11      12\n",
      "fsub.s f8,f6,f2            4 11 - 13            14       ?\n",
      "fdiv.s f10,f0,f6           5 13 -  ?             ?       ?\n",
      "fadd.s f6,f8,f2            6 15 -  ?             ?       ?\n",
      "\n"
     ]
    }
   ],
   "source": [
    "log.print_table()"
   ]
  },
  {
   "cell_type": "code",
   "execution_count": 7,
   "metadata": {},
   "outputs": [
    {
     "name": "stdout",
     "output_type": "stream",
     "text": [
      "[CONFIG_READ] Config file read successfully (instr_id=None)\n",
      "[TRACE_OPEN] Opened trace file trace.dat (instr_id=None)\n",
      "[TRACE_OPEN] Read 6 lines (instr_id=None)\n",
      "[TRACE_COMMAND_MATCH] Matched command flw to flw (instr_id=None)\n",
      "[TRACE_COMMAND_PARAM_EXTRACT] Extracted parameters. Command flw has 2 parameters (instr_id=None)\n",
      "[TRACE_COMMAND_QUEUE_ADD] Added instruction flw to queue (instr_id=None)\n",
      "[TRACE_COMMAND_MATCH] Matched command flw to flw (instr_id=None)\n",
      "[TRACE_COMMAND_PARAM_EXTRACT] Extracted parameters. Command flw has 2 parameters (instr_id=None)\n",
      "[TRACE_COMMAND_QUEUE_ADD] Added instruction flw to queue (instr_id=None)\n",
      "[TRACE_COMMAND_MATCH] Matched command fmul.s to fmul.s (instr_id=None)\n",
      "[TRACE_COMMAND_PARAM_EXTRACT] Extracted parameters. Command fmul.s has 3 parameters (instr_id=None)\n",
      "[TRACE_COMMAND_QUEUE_ADD] Added instruction fmul.s to queue (instr_id=None)\n",
      "[TRACE_COMMAND_MATCH] Matched command fsub.s to fsub.s (instr_id=None)\n",
      "[TRACE_COMMAND_PARAM_EXTRACT] Extracted parameters. Command fsub.s has 3 parameters (instr_id=None)\n",
      "[TRACE_COMMAND_QUEUE_ADD] Added instruction fsub.s to queue (instr_id=None)\n",
      "[TRACE_COMMAND_MATCH] Matched command fdiv.s to fdiv.s (instr_id=None)\n",
      "[TRACE_COMMAND_PARAM_EXTRACT] Extracted parameters. Command fdiv.s has 3 parameters (instr_id=None)\n",
      "[TRACE_COMMAND_QUEUE_ADD] Added instruction fdiv.s to queue (instr_id=None)\n",
      "[TRACE_COMMAND_MATCH] Matched command fadd.s to fadd.s (instr_id=None)\n",
      "[TRACE_COMMAND_PARAM_EXTRACT] Extracted parameters. Command fadd.s has 3 parameters (instr_id=None)\n",
      "[TRACE_COMMAND_QUEUE_ADD] Added instruction fadd.s to queue (instr_id=None)\n",
      "[SIM_ENTER_CYCLE] Starting cycle 1 (instr_id=None)\n",
      "[SIM_ISSUE_INSTRUCTION] (Cycle 1) Issued instruction [DATA_TRANSFERS] flw ['f6', '32(x2):0'] (instr_id=0)\n",
      "[SIM_ENTER_CYCLE] Starting cycle 2 (instr_id=None)\n",
      "[SIM_ISSUE_INSTRUCTION] (Cycle 2) Issued instruction [DATA_TRANSFERS] flw ['f2', '48(x3):4'] (instr_id=1)\n",
      "[SIM_CHECK_EXECUTE] (Cycle 2) Checking instruction [DATA_TRANSFERS] flw ['f6', '32(x2):0'] for execution (instr_id=0)\n",
      "[SIM_START_EXECUTE] (Cycle 2) Starting Executing instruction [DATA_TRANSFERS] flw ['f6', '32(x2):0'], should finish at 2 (instr_id=0)\n",
      "[SIM_FINISH_EXECUTE] (Cycle 2) Finished Executing instruction [DATA_TRANSFERS] flw ['f6', '32(x2):0'] (instr_id=0)\n",
      "[SIM_ENTER_CYCLE] Starting cycle 3 (instr_id=None)\n",
      "[SIM_ISSUE_INSTRUCTION] (Cycle 3) Issued instruction [FLOATING_POINT] fmul.s ['f0', 'f2', 'f4'] (instr_id=2)\n",
      "[SIM_CHECK_EXECUTE] (Cycle 3) Checking instruction [DATA_TRANSFERS] flw ['f2', '48(x3):4'] for execution (instr_id=1)\n",
      "[SIM_START_EXECUTE] (Cycle 3) Starting Executing instruction [DATA_TRANSFERS] flw ['f2', '48(x3):4'], should finish at 3 (instr_id=1)\n",
      "[SIM_FINISH_EXECUTE] (Cycle 3) Finished Executing instruction [DATA_TRANSFERS] flw ['f2', '48(x3):4'] (instr_id=1)\n",
      "[SIM_MEM_READ] (Cycle 3) Reading memory for instruction [DATA_TRANSFERS] flw ['f6', '32(x2):0'] (instr_id=0)\n",
      "[SIM_ENTER_CYCLE] Starting cycle 4 (instr_id=None)\n",
      "[SIM_ISSUE_INSTRUCTION] (Cycle 4) Issued instruction [FLOATING_POINT] fsub.s ['f8', 'f6', 'f2'] (instr_id=3)\n",
      "[SIM_CHECK_EXECUTE] (Cycle 4) Checking instruction [FLOATING_POINT] fmul.s ['f0', 'f2', 'f4'] for execution (instr_id=2)\n",
      "[SIM_CHECK_EXECUTE] \tMemloc f2 is used by 1 other instructions. Cannot execute yet. (instr_id=2)\n",
      "[SIM_MEM_READ] (Cycle 4) Reading memory for instruction [DATA_TRANSFERS] flw ['f2', '48(x3):4'] (instr_id=1)\n",
      "[SIM_WRITE_RESULT] (Cycle 4) Writing result for instruction [DATA_TRANSFERS] flw ['f6', '32(x2):0'] (instr_id=0)\n",
      "[SIM_FREE_MEMLOC] \tFreeing memloc f6 (instr_id=0)\n",
      "[SIM_FREE_MEMLOC] \tFreeing memloc 32(x2):0 (instr_id=0)\n",
      "[SIM_CHECK_COMMIT] (Cycle 4) Checking about committing instructions (instr_id=None)\n",
      "[SIM_ENTER_CYCLE] Starting cycle 5 (instr_id=None)\n",
      "[SIM_ISSUE_INSTRUCTION] (Cycle 5) Issued instruction [FLOATING_POINT] fdiv.s ['f10', 'f0', 'f6'] (instr_id=4)\n",
      "[SIM_CHECK_EXECUTE] (Cycle 5) Checking instruction [FLOATING_POINT] fmul.s ['f0', 'f2', 'f4'] for execution (instr_id=2)\n",
      "[SIM_CHECK_EXECUTE] \tMemloc f2 is used by 1 other instructions. Cannot execute yet. (instr_id=2)\n",
      "[SIM_CHECK_EXECUTE] (Cycle 5) Checking instruction [FLOATING_POINT] fsub.s ['f8', 'f6', 'f2'] for execution (instr_id=3)\n",
      "[SIM_CHECK_EXECUTE] \tMemloc f2 is used by 1 other instructions. Cannot execute yet. (instr_id=3)\n",
      "[SIM_WRITE_RESULT] (Cycle 5) Writing result for instruction [DATA_TRANSFERS] flw ['f2', '48(x3):4'] (instr_id=1)\n",
      "[SIM_FREE_MEMLOC] \tFreeing memloc f2 (instr_id=1)\n",
      "[SIM_FREE_MEMLOC] \tFreeing memloc 48(x3):4 (instr_id=1)\n",
      "[SIM_CHECK_COMMIT] (Cycle 5) Checking about committing instructions (instr_id=None)\n",
      "[SIM_CHECK_COMMIT] \tInstruction [DATA_TRANSFERS] flw ['f6', '32(x2):0'] is ready to commit. Issued at 1, most recent commit was at 1 (instr_id=None)\n",
      "[SIM_COMMIT_SUCCESS] (Cycle 5) Committed instruction [DATA_TRANSFERS] flw ['f6', '32(x2):0'] (instr_id=None)\n",
      "[SIM_ENTER_CYCLE] Starting cycle 6 (instr_id=None)\n",
      "[SIM_ISSUE_INSTRUCTION] (Cycle 6) Issued instruction [FLOATING_POINT] fadd.s ['f6', 'f8', 'f2'] (instr_id=5)\n",
      "[SIM_CHECK_EXECUTE] (Cycle 6) Checking instruction [FLOATING_POINT] fmul.s ['f0', 'f2', 'f4'] for execution (instr_id=2)\n",
      "[SIM_START_EXECUTE] (Cycle 6) Starting Executing instruction [FLOATING_POINT] fmul.s ['f0', 'f2', 'f4'], should finish at 10 (instr_id=2)\n",
      "[SIM_CHECK_EXECUTE] (Cycle 6) Checking instruction [FLOATING_POINT] fsub.s ['f8', 'f6', 'f2'] for execution (instr_id=3)\n",
      "[SIM_CHECK_EXECUTE] \tMemloc f2 is used by 1 other instructions. Cannot execute yet. (instr_id=3)\n",
      "[SIM_CHECK_EXECUTE] (Cycle 6) Checking instruction [FLOATING_POINT] fdiv.s ['f10', 'f0', 'f6'] for execution (instr_id=4)\n",
      "[SIM_CHECK_EXECUTE] \tMemloc f0 is used by 1 other instructions. Cannot execute yet. (instr_id=4)\n",
      "[SIM_CHECK_COMMIT] (Cycle 6) Checking about committing instructions (instr_id=None)\n",
      "[SIM_CHECK_COMMIT] \tInstruction [DATA_TRANSFERS] flw ['f2', '48(x3):4'] is ready to commit. Issued at 2, most recent commit was at 1 (instr_id=None)\n",
      "[SIM_COMMIT_SUCCESS] (Cycle 6) Committed instruction [DATA_TRANSFERS] flw ['f2', '48(x3):4'] (instr_id=None)\n",
      "[SIM_ENTER_CYCLE] Starting cycle 7 (instr_id=None)\n",
      "[SIM_CHECK_EXECUTE] (Cycle 7) Checking instruction [FLOATING_POINT] fmul.s ['f0', 'f2', 'f4'] for execution (instr_id=2)\n",
      "[SIM_START_EXECUTE] (Cycle 7) Starting Executing instruction [FLOATING_POINT] fmul.s ['f0', 'f2', 'f4'], should finish at 10 (instr_id=2)\n",
      "[SIM_CONTINUE_EXECUTE] (Cycle 7) Executing instruction [FLOATING_POINT] fmul.s ['f0', 'f2', 'f4'] (instr_id=2)\n",
      "[SIM_CHECK_EXECUTE] (Cycle 7) Checking instruction [FLOATING_POINT] fsub.s ['f8', 'f6', 'f2'] for execution (instr_id=3)\n",
      "[SIM_CHECK_EXECUTE] \tMemloc f2 is used by 2 other instructions. Cannot execute yet. (instr_id=3)\n",
      "[SIM_CHECK_EXECUTE] (Cycle 7) Checking instruction [FLOATING_POINT] fdiv.s ['f10', 'f0', 'f6'] for execution (instr_id=4)\n",
      "[SIM_CHECK_EXECUTE] \tMemloc f0 is used by 2 other instructions. Cannot execute yet. (instr_id=4)\n",
      "[SIM_CHECK_EXECUTE] (Cycle 7) Checking instruction [FLOATING_POINT] fadd.s ['f6', 'f8', 'f2'] for execution (instr_id=5)\n",
      "[SIM_CHECK_EXECUTE] \tMemloc f2 is used by 2 other instructions. Cannot execute yet. (instr_id=5)\n",
      "[SIM_ENTER_CYCLE] Starting cycle 8 (instr_id=None)\n",
      "[SIM_CHECK_EXECUTE] (Cycle 8) Checking instruction [FLOATING_POINT] fmul.s ['f0', 'f2', 'f4'] for execution (instr_id=2)\n",
      "[SIM_START_EXECUTE] (Cycle 8) Starting Executing instruction [FLOATING_POINT] fmul.s ['f0', 'f2', 'f4'], should finish at 10 (instr_id=2)\n",
      "[SIM_CONTINUE_EXECUTE] (Cycle 8) Executing instruction [FLOATING_POINT] fmul.s ['f0', 'f2', 'f4'] (instr_id=2)\n",
      "[SIM_CHECK_EXECUTE] (Cycle 8) Checking instruction [FLOATING_POINT] fsub.s ['f8', 'f6', 'f2'] for execution (instr_id=3)\n",
      "[SIM_CHECK_EXECUTE] \tMemloc f2 is used by 3 other instructions. Cannot execute yet. (instr_id=3)\n",
      "[SIM_CHECK_EXECUTE] (Cycle 8) Checking instruction [FLOATING_POINT] fdiv.s ['f10', 'f0', 'f6'] for execution (instr_id=4)\n",
      "[SIM_CHECK_EXECUTE] \tMemloc f0 is used by 3 other instructions. Cannot execute yet. (instr_id=4)\n",
      "[SIM_CHECK_EXECUTE] (Cycle 8) Checking instruction [FLOATING_POINT] fadd.s ['f6', 'f8', 'f2'] for execution (instr_id=5)\n",
      "[SIM_CHECK_EXECUTE] \tMemloc f2 is used by 3 other instructions. Cannot execute yet. (instr_id=5)\n",
      "[SIM_ENTER_CYCLE] Starting cycle 9 (instr_id=None)\n",
      "[SIM_CHECK_EXECUTE] (Cycle 9) Checking instruction [FLOATING_POINT] fmul.s ['f0', 'f2', 'f4'] for execution (instr_id=2)\n",
      "[SIM_START_EXECUTE] (Cycle 9) Starting Executing instruction [FLOATING_POINT] fmul.s ['f0', 'f2', 'f4'], should finish at 10 (instr_id=2)\n",
      "[SIM_CONTINUE_EXECUTE] (Cycle 9) Executing instruction [FLOATING_POINT] fmul.s ['f0', 'f2', 'f4'] (instr_id=2)\n",
      "[SIM_CHECK_EXECUTE] (Cycle 9) Checking instruction [FLOATING_POINT] fsub.s ['f8', 'f6', 'f2'] for execution (instr_id=3)\n",
      "[SIM_CHECK_EXECUTE] \tMemloc f2 is used by 4 other instructions. Cannot execute yet. (instr_id=3)\n",
      "[SIM_CHECK_EXECUTE] (Cycle 9) Checking instruction [FLOATING_POINT] fdiv.s ['f10', 'f0', 'f6'] for execution (instr_id=4)\n",
      "[SIM_CHECK_EXECUTE] \tMemloc f0 is used by 4 other instructions. Cannot execute yet. (instr_id=4)\n",
      "[SIM_CHECK_EXECUTE] (Cycle 9) Checking instruction [FLOATING_POINT] fadd.s ['f6', 'f8', 'f2'] for execution (instr_id=5)\n",
      "[SIM_CHECK_EXECUTE] \tMemloc f2 is used by 4 other instructions. Cannot execute yet. (instr_id=5)\n",
      "[SIM_ENTER_CYCLE] Starting cycle 10 (instr_id=None)\n",
      "[SIM_CHECK_EXECUTE] (Cycle 10) Checking instruction [FLOATING_POINT] fmul.s ['f0', 'f2', 'f4'] for execution (instr_id=2)\n",
      "[SIM_START_EXECUTE] (Cycle 10) Starting Executing instruction [FLOATING_POINT] fmul.s ['f0', 'f2', 'f4'], should finish at 10 (instr_id=2)\n",
      "[SIM_FINISH_EXECUTE] (Cycle 10) Finished Executing instruction [FLOATING_POINT] fmul.s ['f0', 'f2', 'f4'] (instr_id=2)\n",
      "[SIM_CHECK_EXECUTE] (Cycle 10) Checking instruction [FLOATING_POINT] fdiv.s ['f10', 'f0', 'f6'] for execution (instr_id=4)\n",
      "[SIM_CHECK_EXECUTE] \tMemloc f0 is used by 5 other instructions. Cannot execute yet. (instr_id=4)\n",
      "[SIM_CHECK_EXECUTE] (Cycle 10) Checking instruction [FLOATING_POINT] fadd.s ['f6', 'f8', 'f2'] for execution (instr_id=5)\n",
      "[SIM_CHECK_EXECUTE] \tMemloc f2 is used by 5 other instructions. Cannot execute yet. (instr_id=5)\n",
      "[SIM_ENTER_CYCLE] Starting cycle 11 (instr_id=None)\n",
      "[SIM_CHECK_EXECUTE] (Cycle 11) Checking instruction [FLOATING_POINT] fsub.s ['f8', 'f6', 'f2'] for execution (instr_id=3)\n",
      "[SIM_CHECK_EXECUTE] \tMemloc f2 is used by 5 other instructions. Cannot execute yet. (instr_id=3)\n",
      "[SIM_CHECK_EXECUTE] (Cycle 11) Checking instruction [FLOATING_POINT] fdiv.s ['f10', 'f0', 'f6'] for execution (instr_id=4)\n",
      "[SIM_CHECK_EXECUTE] \tMemloc f0 is used by 5 other instructions. Cannot execute yet. (instr_id=4)\n",
      "[SIM_CHECK_EXECUTE] (Cycle 11) Checking instruction [FLOATING_POINT] fadd.s ['f6', 'f8', 'f2'] for execution (instr_id=5)\n",
      "[SIM_CHECK_EXECUTE] \tMemloc f2 is used by 5 other instructions. Cannot execute yet. (instr_id=5)\n",
      "[SIM_WRITE_RESULT] (Cycle 11) Writing result for instruction [FLOATING_POINT] fmul.s ['f0', 'f2', 'f4'] (instr_id=2)\n",
      "[SIM_FREE_MEMLOC] \tFreeing memloc f0 (instr_id=2)\n",
      "[SIM_FREE_MEMLOC] \tFreeing memloc f2 (instr_id=2)\n",
      "[SIM_FREE_MEMLOC] \tFreeing memloc f4 (instr_id=2)\n",
      "[SIM_CHECK_COMMIT] (Cycle 11) Checking about committing instructions (instr_id=None)\n",
      "[SIM_ENTER_CYCLE] Starting cycle 12 (instr_id=None)\n",
      "[SIM_CHECK_EXECUTE] (Cycle 12) Checking instruction [FLOATING_POINT] fsub.s ['f8', 'f6', 'f2'] for execution (instr_id=3)\n",
      "[SIM_START_EXECUTE] (Cycle 12) Starting Executing instruction [FLOATING_POINT] fsub.s ['f8', 'f6', 'f2'], should finish at 13 (instr_id=3)\n",
      "[SIM_CONTINUE_EXECUTE] (Cycle 12) Executing instruction [FLOATING_POINT] fsub.s ['f8', 'f6', 'f2'] (instr_id=3)\n",
      "[SIM_CHECK_EXECUTE] (Cycle 12) Checking instruction [FLOATING_POINT] fdiv.s ['f10', 'f0', 'f6'] for execution (instr_id=4)\n",
      "[SIM_CHECK_EXECUTE] \tMemloc f6 is used by 1 other instructions. Cannot execute yet. (instr_id=4)\n",
      "[SIM_CHECK_EXECUTE] (Cycle 12) Checking instruction [FLOATING_POINT] fadd.s ['f6', 'f8', 'f2'] for execution (instr_id=5)\n",
      "[SIM_CHECK_EXECUTE] \tMemloc f6 is used by 1 other instructions. Cannot execute yet. (instr_id=5)\n",
      "[SIM_CHECK_EXECUTE] \tMemloc f8 is used by 1 other instructions. Cannot execute yet. (instr_id=5)\n",
      "[SIM_CHECK_EXECUTE] \tMemloc f2 is used by 1 other instructions. Cannot execute yet. (instr_id=5)\n",
      "[SIM_CHECK_COMMIT] (Cycle 12) Checking about committing instructions (instr_id=None)\n",
      "[SIM_CHECK_COMMIT] \tInstruction [FLOATING_POINT] fmul.s ['f0', 'f2', 'f4'] is ready to commit. Issued at 3, most recent commit was at 2 (instr_id=None)\n",
      "[SIM_COMMIT_SUCCESS] (Cycle 12) Committed instruction [FLOATING_POINT] fmul.s ['f0', 'f2', 'f4'] (instr_id=None)\n",
      "[SIM_ENTER_CYCLE] Starting cycle 13 (instr_id=None)\n",
      "[SIM_CHECK_EXECUTE] (Cycle 13) Checking instruction [FLOATING_POINT] fsub.s ['f8', 'f6', 'f2'] for execution (instr_id=3)\n",
      "[SIM_START_EXECUTE] (Cycle 13) Starting Executing instruction [FLOATING_POINT] fsub.s ['f8', 'f6', 'f2'], should finish at 13 (instr_id=3)\n",
      "[SIM_FINISH_EXECUTE] (Cycle 13) Finished Executing instruction [FLOATING_POINT] fsub.s ['f8', 'f6', 'f2'] (instr_id=3)\n"
     ]
    }
   ],
   "source": [
    "log.print()"
   ]
  },
  {
   "cell_type": "code",
   "execution_count": 8,
   "metadata": {},
   "outputs": [
    {
     "name": "stdout",
     "output_type": "stream",
     "text": [
      "[SIM_COMMIT_SUCCESS] (Cycle 5) Committed instruction [DATA_TRANSFERS] flw ['f6', '32(x2):0'] (instr_id=None)\n",
      "[SIM_COMMIT_SUCCESS] (Cycle 6) Committed instruction [DATA_TRANSFERS] flw ['f2', '48(x3):4'] (instr_id=None)\n",
      "[SIM_COMMIT_SUCCESS] (Cycle 12) Committed instruction [FLOATING_POINT] fmul.s ['f0', 'f2', 'f4'] (instr_id=None)\n"
     ]
    }
   ],
   "source": [
    "log.print_type(LogType.SIM_OUTOFORDER_COMMIT_STALL, LogType.SIM_COMMIT_SUCCESS, LogType.SIM_COMMIT_TOO_EARLY)"
   ]
  }
 ],
 "metadata": {
  "kernelspec": {
   "display_name": "Python 3.9.1 ('.venv': venv)",
   "language": "python",
   "name": "python3"
  },
  "language_info": {
   "codemirror_mode": {
    "name": "ipython",
    "version": 3
   },
   "file_extension": ".py",
   "mimetype": "text/x-python",
   "name": "python",
   "nbconvert_exporter": "python",
   "pygments_lexer": "ipython3",
   "version": "3.9.1"
  },
  "orig_nbformat": 4,
  "vscode": {
   "interpreter": {
    "hash": "66bf4492139598d49a7c8310fb15441437b574c1b34774718e055f9cbee0965b"
   }
  }
 },
 "nbformat": 4,
 "nbformat_minor": 2
}
